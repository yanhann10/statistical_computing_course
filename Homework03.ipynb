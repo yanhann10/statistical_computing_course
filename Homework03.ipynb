{
 "cells": [
  {
   "cell_type": "markdown",
   "metadata": {},
   "source": [
    "# Homework03:  Topic Modeling with Latent Semantic Analysis"
   ]
  },
  {
   "cell_type": "markdown",
   "metadata": {},
   "source": [
    "Latent Semantic Analysis (LSA) is a method for finding latent similarities between documents treated as a bag of words by using a low rank approximation. It is used for document classification, clustering and retrieval. For example, LSA can be used to search for prior art given a new patent application. In this homework, we will implement a small library for simple latent semantic analysis as a practical example of the application of SVD. The ideas are very similar to PCA. SVD is also used in recommender systems in an similar fashion (for an SVD-based recommender system library, see [Surpise](http://surpriselib.com). \n",
    "\n",
    "We will implement a toy example of LSA to get familiar with the ideas. If you want to use LSA or similar methods for statistical language analysis, the most efficient Python libraries are probably [gensim](https://radimrehurek.com/gensim/) and [spaCy](https://spacy.io) - these also provide an online algorithm - i.e. the training information can be continuously updated. Other useful functions for processing natural language can be found in the [Natural Language Toolkit](http://www.nltk.org/)."
   ]
  },
  {
   "cell_type": "markdown",
   "metadata": {},
   "source": [
    "**Note**: The SVD from scipy.linalg performs a full decomposition, which is inefficient since we only need to decompose until we get the first k singluar values. If the SVD from `scipy.linalg` is too slow, please use the `sparsesvd` function from the [sparsesvd](https://pypi.python.org/pypi/sparsesvd/) package to perform SVD instead.  You can install in the usual way with \n",
    "```\n",
    "!pip install sparsesvd\n",
    "```\n",
    "\n",
    "Then import the following\n",
    "```python\n",
    "from sparsesvd import sparsesvd \n",
    "from scipy.sparse import csc_matrix \n",
    "```\n",
    "\n",
    "and use as follows\n",
    "```python\n",
    "sparsesvd(csc_matrix(M), k=10)\n",
    "```"
   ]
  },
  {
   "cell_type": "markdown",
   "metadata": {},
   "source": [
    "**Exercise 1 (20 points)**.  Calculating pairwise distance matrices.\n",
    "\n",
    "Suppose we want to construct a distance matrix between the rows of a matrix. For example, given the matrix \n",
    "\n",
    "```python\n",
    "M = np.array([[1,2,3],[4,5,6]])\n",
    "```\n",
    "\n",
    "the distance matrix using Euclidean distance as the measure would be\n",
    "```python\n",
    "[[ 0.000  1.414  2.828]\n",
    " [ 1.414  0.000  1.414]\n",
    " [ 2.828  1.414  0.000]] \n",
    "```\n",
    "if $M$ was a collection of column vectors.\n",
    "\n",
    "Write a function to calculate the pairwise-distance matrix given the matrix $M$ and some arbitrary distance function. Your functions should have the following signature:\n",
    "```\n",
    "def func_name(M, distance_func):\n",
    "    pass\n",
    "```\n",
    "\n",
    "0. Write a distance function for the Euclidean, squared Euclidean and cosine measures.\n",
    "1. Write the function using looping for M as a collection of row vectors.\n",
    "2. Write the function using looping for M as a collection of column vectors.\n",
    "3. Wrtie the function using broadcasting for M as a collection of row vectors.\n",
    "4. Write the function using broadcasting for M as a collection of column vectors. \n",
    "\n",
    "For 3 and 4, try to avoid using transposition (but if you get stuck, there will be no penalty for using transposition). Check that all four functions give the same result when applied to the given matrix $M$."
   ]
  },
  {
   "cell_type": "code",
   "execution_count": 157,
   "metadata": {},
   "outputs": [
    {
     "data": {
      "text/plain": [
       "0"
      ]
     },
     "execution_count": 157,
     "metadata": {},
     "output_type": "execute_result"
    }
   ],
   "source": [
    "0"
   ]
  },
  {
   "cell_type": "code",
   "execution_count": 22,
   "metadata": {},
   "outputs": [],
   "source": [
    "import scipy.linalg as la\n",
    "import numpy as np"
   ]
  },
  {
   "cell_type": "code",
   "execution_count": 23,
   "metadata": {},
   "outputs": [],
   "source": [
    "def distance_euclidiean(x, y):\n",
    "    \"\"\"calc euc distance: sqrt sum of the difference between 2 vectors\"\"\"\n",
    "    return np.sqrt(np.sum((x-y)**2))"
   ]
  },
  {
   "cell_type": "code",
   "execution_count": 24,
   "metadata": {},
   "outputs": [],
   "source": [
    "def distance_euclidieanSquared(x, y):\n",
    "    \"\"\"calc euc squared distance: sum of the difference between 2 vectors\"\"\"\n",
    "    return np.sum((x-y)**2)"
   ]
  },
  {
   "cell_type": "code",
   "execution_count": 25,
   "metadata": {},
   "outputs": [],
   "source": [
    "def distance_cosine(x, y):\n",
    "    \"\"\"calc cosine distance: 1 - uv/|u||v|\"\"\"\n",
    "    return 1 - x @ y / la.norm(x) / la.norm(y)"
   ]
  },
  {
   "cell_type": "code",
   "execution_count": 156,
   "metadata": {},
   "outputs": [],
   "source": [
    "# if need all measures in one function\n",
    "def distance(x, y, distance_func):\n",
    "    \"\"\"calc distance given custom distance measures\"\"\"\n",
    "    return distance_func(x, y)"
   ]
  },
  {
   "cell_type": "code",
   "execution_count": 26,
   "metadata": {},
   "outputs": [
    {
     "data": {
      "text/plain": [
       "array([1, 2, 3])"
      ]
     },
     "execution_count": 26,
     "metadata": {},
     "output_type": "execute_result"
    }
   ],
   "source": [
    "M = np.array([[1,2,3],[4,5,6]])"
   ]
  },
  {
   "cell_type": "markdown",
   "metadata": {},
   "source": [
    "# loops"
   ]
  },
  {
   "cell_type": "markdown",
   "metadata": {},
   "source": [
    "1"
   ]
  },
  {
   "cell_type": "code",
   "execution_count": 29,
   "metadata": {},
   "outputs": [
    {
     "data": {
      "text/plain": [
       "array([[0.        , 5.19615242],\n",
       "       [5.19615242, 0.        ]])"
      ]
     },
     "execution_count": 29,
     "metadata": {},
     "output_type": "execute_result"
    }
   ],
   "source": [
    "def dist_row_loop(M, distance_func):\n",
    "    \"\"\"calculating distance matrix trying m as row vectors\"\"\"\n",
    "    rows = M.shape[0]\n",
    "    table = np.zeros((rows, rows), dtype='float')\n",
    "    for i in range(rows):\n",
    "        for j in range(rows):\n",
    "            table[i, j] = distance_func(M[i, :], M[j, :])   \n",
    "    return table\n",
    "\n",
    "dist_row_loop(M, distance_func=distance_euclidiean)"
   ]
  },
  {
   "cell_type": "markdown",
   "metadata": {},
   "source": [
    "2"
   ]
  },
  {
   "cell_type": "code",
   "execution_count": 30,
   "metadata": {},
   "outputs": [
    {
     "data": {
      "text/plain": [
       "array([[0.        , 1.41421356, 2.82842712],\n",
       "       [1.41421356, 0.        , 1.41421356],\n",
       "       [2.82842712, 1.41421356, 0.        ]])"
      ]
     },
     "execution_count": 30,
     "metadata": {},
     "output_type": "execute_result"
    }
   ],
   "source": [
    "def dist_col_loop(M, distance_func):\n",
    "    \"\"\"calculating distance matrix trying m as col vectors\"\"\"\n",
    "    cols = M.shape[1]\n",
    "    table = np.zeros((cols, cols), dtype='float')\n",
    "    for i in range(cols):\n",
    "        for j in range(cols):\n",
    "            table[i, j] = distance_func(M[:, i], M[:, j])   \n",
    "    return table\n",
    "\n",
    "dist_col_loop(M, distance_func=distance_euclidiean)"
   ]
  },
  {
   "cell_type": "markdown",
   "metadata": {},
   "source": [
    "# broadcasting"
   ]
  },
  {
   "cell_type": "markdown",
   "metadata": {},
   "source": [
    "3"
   ]
  },
  {
   "cell_type": "code",
   "execution_count": 31,
   "metadata": {},
   "outputs": [],
   "source": [
    "# def dist_row_broadcast(M, distance_func):\n",
    "#     \"\"\"calculating distance matrix trying m as row vectors\"\"\"\n",
    "#     x = M[:, None]\n",
    "#     y = M[None, :]\n",
    "#     table = distance_func(x, y)\n",
    "    \n",
    "#     return table\n",
    "\n",
    "# dist_row_broadcast(M, distance_func=distance_euclidiean)"
   ]
  },
  {
   "cell_type": "code",
   "execution_count": 32,
   "metadata": {},
   "outputs": [
    {
     "data": {
      "text/plain": [
       "array([[0.        , 5.19615242],\n",
       "       [5.19615242, 0.        ]])"
      ]
     },
     "execution_count": 32,
     "metadata": {},
     "output_type": "execute_result"
    }
   ],
   "source": [
    "def dist_row_broadcast(M, distance_func):\n",
    "    \"\"\"calculating distance matrix trying m as row vectors\"\"\"\n",
    "    if distance_func==\"distance_euclidiean\":\n",
    "        table = np.sqrt(np.sum((M[:, None] - M[None, :])**2, axis = -1))\n",
    "    elif distance_func==\"distance_euclidieanSquared\":\n",
    "        table = np.sum((M[:, None] - M[None, :])**2, axis = -1)\n",
    "    elif distance_func==\"distance_cosine\": \n",
    "        table = 1\n",
    "    return table\n",
    "\n",
    "dist_row_broadcast(M, distance_func=\"distance_euclidiean\")"
   ]
  },
  {
   "cell_type": "markdown",
   "metadata": {},
   "source": [
    "4"
   ]
  },
  {
   "cell_type": "code",
   "execution_count": 33,
   "metadata": {},
   "outputs": [
    {
     "data": {
      "text/plain": [
       "array([[0.        , 1.41421356, 2.82842712],\n",
       "       [1.41421356, 0.        , 1.41421356],\n",
       "       [2.82842712, 1.41421356, 0.        ]])"
      ]
     },
     "execution_count": 33,
     "metadata": {},
     "output_type": "execute_result"
    }
   ],
   "source": [
    "def dist_col_broadcast(M, distance_func):\n",
    "    \"\"\"calculating distance matrix trying m as row vectors\"\"\"\n",
    "    if distance_func==\"distance_euclidiean\":\n",
    "        table = np.sqrt(np.sum((M[:, None,:] - M[:,:,None])**2, axis = 0))\n",
    "    elif distance_func==\"distance_euclidieanSquared\":\n",
    "        table = np.sum((M[:, None,:] - M[:,:,None])**2, axis = 0)\n",
    "    elif distance_func==\"distance_cosine\": \n",
    "        table = 1\n",
    "    return table\n",
    "\n",
    "dist_col_broadcast(M, distance_func=\"distance_euclidiean\")"
   ]
  },
  {
   "cell_type": "markdown",
   "metadata": {},
   "source": [
    "**Exercise 2 (20 points)**. "
   ]
  },
  {
   "cell_type": "markdown",
   "metadata": {},
   "source": [
    "**Exercise 2 (20 points)**. Write 3 functions to calculate the term frequency (tf), the inverse document frequency (idf) and the product (tf-idf). Each function should take a single argument `docs`, which is a dictionary of (key=identifier, value=document text) pairs, and return an appropriately sized array. Convert '-' to ' ' (space), remove punctuation, convert text to lowercase and split on whitespace to generate a collection of terms from the document text.\n",
    "\n",
    "- tf = the number of occurrences of term $i$ in document $j$\n",
    "- idf = $\\log \\frac{n}{1 + \\text{df}_i}$ where $n$ is the total number of documents and $\\text{df}_i$ is the number of documents in which term $i$ occurs.\n",
    "\n",
    "Print the table of tf-idf values for the following document collection\n",
    "\n",
    "```\n",
    "s1 = \"The quick brown fox\"\n",
    "s2 = \"Brown fox jumps over the jumps jumps jumps\"\n",
    "s3 = \"The the the lazy dog elephant.\"\n",
    "s4 = \"The the the the the dog peacock lion tiger elephant\"\n",
    "\n",
    "docs = {'s1': s1, 's2': s2, 's3': s3, 's4': s4}\n",
    "```"
   ]
  },
  {
   "cell_type": "code",
   "execution_count": 34,
   "metadata": {},
   "outputs": [],
   "source": [
    "import string\n",
    "from collections import Counter\n",
    "def processTxt(txt):\n",
    "    return txt.lower().replace('-',' ').translate(str.maketrans(\"\",\"\",string.punctuation)).split(\" \")"
   ]
  },
  {
   "cell_type": "code",
   "execution_count": 35,
   "metadata": {},
   "outputs": [],
   "source": [
    "s1 = \"The quick brown fox\"\n",
    "s2 = \"Brown fox jumps over the jumps jumps jumps\"\n",
    "s3 = \"The the the lazy dog elephant.\"\n",
    "s4 = \"The the the the the dog peacock lion tiger elephant\"\n",
    "docs = {'s1': s1, 's2': s2, 's3': s3, 's4': s4}"
   ]
  },
  {
   "cell_type": "code",
   "execution_count": 77,
   "metadata": {},
   "outputs": [
    {
     "data": {
      "text/plain": [
       "array([[13,  0,  0, ...,  0,  0,  0],\n",
       "       [ 0,  0,  0, ...,  0,  0,  0],\n",
       "       [ 0,  0,  0, ...,  0,  0,  0],\n",
       "       ...,\n",
       "       [ 0,  0,  0, ...,  0,  0,  0],\n",
       "       [ 0,  0,  0, ...,  0,  0,  0],\n",
       "       [ 0,  0,  0, ...,  0,  0,  0]])"
      ]
     },
     "execution_count": 77,
     "metadata": {},
     "output_type": "execute_result"
    }
   ],
   "source": [
    "def tf(doc):\n",
    "    \"\"\"calc term freq\"\"\"\n",
    "    sentLst = list(doc.values())\n",
    "    doc_words = [processTxt(content) for content in sentLst]\n",
    "    vocab = set([word for words in doc_words for word in words])\n",
    "    table = np.zeros((len(vocab), len(sentLst)), dtype='int')\n",
    "    for i, word in enumerate(vocab):\n",
    "        for j, doc in enumerate(doc_words):\n",
    "            table[i, j] = doc.count(word)\n",
    "    return table #pd.DataFrame(table, index=vocab, columns=docs.keys())\n",
    "tf(docs)"
   ]
  },
  {
   "cell_type": "code",
   "execution_count": 78,
   "metadata": {},
   "outputs": [
    {
     "data": {
      "text/plain": [
       "array([[1.02290047],\n",
       "       [4.48863637],\n",
       "       [4.48863637],\n",
       "       ...,\n",
       "       [4.48863637],\n",
       "       [2.40919483],\n",
       "       [4.48863637]])"
      ]
     },
     "execution_count": 78,
     "metadata": {},
     "output_type": "execute_result"
    }
   ],
   "source": [
    "def idf(doc):\n",
    "    \"\"\"calc inverse document freq\"\"\"\n",
    "    sentLst = list(doc.values())\n",
    "    doc_words = [processTxt(content) for content in sentLst]\n",
    "    vocab = set([word for words in doc_words for word in words])\n",
    "    table = np.zeros((len(vocab), 1), dtype='float')\n",
    "    for i, word in enumerate(vocab):\n",
    "        df = sum([word in doc for doc in doc_words])\n",
    "        table[i] = np.log(len(sentLst)/(1 + df))\n",
    "    return table #pd.DataFrame(table, index=vocab)\n",
    "idf(docs)"
   ]
  },
  {
   "cell_type": "code",
   "execution_count": 70,
   "metadata": {},
   "outputs": [],
   "source": [
    "def tfidf(docs):\n",
    "    \"\"\"calc tf-idf\"\"\"\n",
    "    sentLst = list(docs.values())\n",
    "    doc_words = [processTxt(content) for content in sentLst]\n",
    "    vocab = set([word for words in doc_words for word in words])\n",
    "    return pd.DataFrame(tf(docs) * idf(docs), index=vocab, columns=docs.keys())"
   ]
  },
  {
   "cell_type": "markdown",
   "metadata": {},
   "source": [
    "**Exercise 3 (20 points)**. \n",
    "\n",
    "1. Write a function that takes a matrix $M$ and an integer $k$ as arguments, and reconstructs a reduced matrix using only the $k$ largest singular values. Use the `scipy.linagl.svd` function to perform the decomposition. This is the least squares approximation to the matrix $M$ in $k$ dimensions.\n",
    "\n",
    "2. Apply the function you just wrote to the following term-frequency matrix for a set of $9$ documents using $k=2$ and print the reconstructed matrix $M'$.\n",
    "```\n",
    "M = np.array([[1, 0, 0, 1, 0, 0, 0, 0, 0],\n",
    "       [1, 0, 1, 0, 0, 0, 0, 0, 0],\n",
    "       [1, 1, 0, 0, 0, 0, 0, 0, 0],\n",
    "       [0, 1, 1, 0, 1, 0, 0, 0, 0],\n",
    "       [0, 1, 1, 2, 0, 0, 0, 0, 0],\n",
    "       [0, 1, 0, 0, 1, 0, 0, 0, 0],\n",
    "       [0, 1, 0, 0, 1, 0, 0, 0, 0],\n",
    "       [0, 0, 1, 1, 0, 0, 0, 0, 0],\n",
    "       [0, 1, 0, 0, 0, 0, 0, 0, 1],\n",
    "       [0, 0, 0, 0, 0, 1, 1, 1, 0],\n",
    "       [0, 0, 0, 0, 0, 0, 1, 1, 1],\n",
    "       [0, 0, 0, 0, 0, 0, 0, 1, 1]])\n",
    "```\n",
    "\n",
    "3. Calculate the pairwise correlation matrix for the original matrix M and the reconstructed matrix using $k=2$ singular values (you may use [scipy.stats.spearmanr](http://docs.scipy.org/doc/scipy/reference/generated/scipy.stats.spearmanr.html) to do the calculations). Consider the fist 5 sets of documents as one group $G1$ and the last 4 as another group $G2$ (i.e. first 5 and last 4 columns). What is the average within group correlation for $G1$, $G2$ and the average cross-group correlation for G1-G2 using either $M$ or $M'$. (Do not include self-correlation in the within-group calculations.)."
   ]
  },
  {
   "cell_type": "markdown",
   "metadata": {},
   "source": [
    "1"
   ]
  },
  {
   "cell_type": "code",
   "execution_count": 39,
   "metadata": {},
   "outputs": [],
   "source": [
    "import numpy.linalg as la\n",
    "\n",
    "def svdk(M, k):\n",
    "    \"\"\"perform full svd decomposition and then take first k features\"\"\"\n",
    "    U, s, V = np.linalg.svd(M)\n",
    "    reducedMatrix = U[:, :k] @ np.diag(s[:k]) @ V[:k, :]\n",
    "    return reducedMatrix"
   ]
  },
  {
   "cell_type": "markdown",
   "metadata": {},
   "source": [
    "2"
   ]
  },
  {
   "cell_type": "code",
   "execution_count": 40,
   "metadata": {},
   "outputs": [
    {
     "data": {
      "text/plain": [
       "array([[ 0.16205797,  0.40049828,  0.37895454,  0.46756626,  0.17595367,\n",
       "        -0.05265495, -0.11514284, -0.15910198, -0.09183827],\n",
       "       [ 0.14058529,  0.36980077,  0.32899603,  0.40042722,  0.16497247,\n",
       "        -0.03281545, -0.07056857, -0.09676827, -0.04298073],\n",
       "       [ 0.15244948,  0.50500444,  0.35793658,  0.41010678,  0.23623173,\n",
       "         0.02421652,  0.05978051,  0.0868573 ,  0.12396632],\n",
       "       [ 0.25804933,  0.84112343,  0.60571995,  0.69735717,  0.39231795,\n",
       "         0.03311801,  0.08324491,  0.12177239,  0.18737973],\n",
       "       [ 0.44878975,  1.23436483,  1.0508615 ,  1.26579559,  0.55633139,\n",
       "        -0.07378998, -0.15469383, -0.20959816, -0.04887954],\n",
       "       [ 0.15955428,  0.5816819 ,  0.37521897,  0.41689768,  0.27654052,\n",
       "         0.05590374,  0.1322185 ,  0.18891146,  0.21690761],\n",
       "       [ 0.15955428,  0.5816819 ,  0.37521897,  0.41689768,  0.27654052,\n",
       "         0.05590374,  0.1322185 ,  0.18891146,  0.21690761],\n",
       "       [ 0.21846278,  0.54958058,  0.51096047,  0.62805802,  0.24253607,\n",
       "        -0.06541098, -0.14252146, -0.19661186, -0.1079133 ],\n",
       "       [ 0.09690639,  0.53206438,  0.22991365,  0.21175363,  0.26652513,\n",
       "         0.13675618,  0.31462078,  0.44444058,  0.42496948],\n",
       "       [-0.06125388,  0.23210821, -0.1388984 , -0.26564589,  0.14492549,\n",
       "         0.24042105,  0.54614717,  0.7673742 ,  0.66370933],\n",
       "       [-0.06467702,  0.33528115, -0.14564055, -0.30140607,  0.20275641,\n",
       "         0.30572612,  0.69489337,  0.97661121,  0.84874969],\n",
       "       [-0.04308204,  0.25390566, -0.09666695, -0.20785821,  0.1519134 ,\n",
       "         0.22122703,  0.50294488,  0.70691163,  0.6155044 ]])"
      ]
     },
     "execution_count": 40,
     "metadata": {},
     "output_type": "execute_result"
    }
   ],
   "source": [
    "M = np.array([[1, 0, 0, 1, 0, 0, 0, 0, 0],\n",
    "       [1, 0, 1, 0, 0, 0, 0, 0, 0],\n",
    "       [1, 1, 0, 0, 0, 0, 0, 0, 0],\n",
    "       [0, 1, 1, 0, 1, 0, 0, 0, 0],\n",
    "       [0, 1, 1, 2, 0, 0, 0, 0, 0],\n",
    "       [0, 1, 0, 0, 1, 0, 0, 0, 0],\n",
    "       [0, 1, 0, 0, 1, 0, 0, 0, 0],\n",
    "       [0, 0, 1, 1, 0, 0, 0, 0, 0],\n",
    "       [0, 1, 0, 0, 0, 0, 0, 0, 1],\n",
    "       [0, 0, 0, 0, 0, 1, 1, 1, 0],\n",
    "       [0, 0, 0, 0, 0, 0, 1, 1, 1],\n",
    "       [0, 0, 0, 0, 0, 0, 0, 1, 1]])\n",
    "reducedM = svdk(M, 2)\n",
    "reducedM"
   ]
  },
  {
   "cell_type": "markdown",
   "metadata": {},
   "source": [
    "3"
   ]
  },
  {
   "cell_type": "code",
   "execution_count": 41,
   "metadata": {},
   "outputs": [],
   "source": [
    "G1 = M[:,:4]\n",
    "G2 = M[:,4:]"
   ]
  },
  {
   "cell_type": "markdown",
   "metadata": {},
   "source": [
    "Within group correlation"
   ]
  },
  {
   "cell_type": "code",
   "execution_count": 42,
   "metadata": {},
   "outputs": [
    {
     "data": {
      "text/plain": [
       "0.40060518014819646"
      ]
     },
     "execution_count": 42,
     "metadata": {},
     "output_type": "execute_result"
    }
   ],
   "source": [
    "from scipy.stats import spearmanr\n",
    "np.mean(spearmanr(G1))"
   ]
  },
  {
   "cell_type": "code",
   "execution_count": 43,
   "metadata": {},
   "outputs": [
    {
     "data": {
      "text/plain": [
       "0.2706084043264429"
      ]
     },
     "execution_count": 43,
     "metadata": {},
     "output_type": "execute_result"
    }
   ],
   "source": [
    "np.mean(spearmanr(G2))"
   ]
  },
  {
   "cell_type": "markdown",
   "metadata": {},
   "source": [
    "Cross group correlation"
   ]
  },
  {
   "cell_type": "code",
   "execution_count": 44,
   "metadata": {},
   "outputs": [
    {
     "data": {
      "text/plain": [
       "0.18691666316271546"
      ]
     },
     "execution_count": 44,
     "metadata": {},
     "output_type": "execute_result"
    }
   ],
   "source": [
    "np.mean(spearmanr(G1, G2))"
   ]
  },
  {
   "cell_type": "code",
   "execution_count": 45,
   "metadata": {},
   "outputs": [
    {
     "data": {
      "text/plain": [
       "0.08479286680664984"
      ]
     },
     "execution_count": 45,
     "metadata": {},
     "output_type": "execute_result"
    }
   ],
   "source": [
    "np.mean(spearmanr(reducedM[:,:4], reducedM[:,4:]))"
   ]
  },
  {
   "cell_type": "markdown",
   "metadata": {},
   "source": [
    "**Exercise 4 (40 points)**. Clustering with LSA\n",
    "\n",
    "1. Begin by loading a PubMed database of selected article titles using 'pickle'. With the following:\n",
    "```import pickle\n",
    "docs = pickle.load(open('data/pubmed.pic', 'rb'))```\n",
    "\n",
    "    Create a tf-idf matrix for every term that appears at least once in any of the documents. What is the shape of the tf-idf matrix? \n",
    "\n",
    "2. Perform SVD on the tf-idf matrix to obtain $U \\Sigma V^T$ (often written as $T \\Sigma D^T$ in this context with $T$ representing the terms and $D$ representing the documents). If we set all but the top $k$ singular values to 0, the reconstructed matrix is essentially $U_k \\Sigma_k V_k^T$, where $U_k$ is $m \\times k$, $\\Sigma_k$ is $k \\times k$ and $V_k^T$ is $k \\times n$. Terms in this reduced space are represented by $U_k \\Sigma_k$ and documents by $\\Sigma_k V^T_k$. Reconstruct the matrix using the first $k=10$ singular values.\n",
    "\n",
    "3. Use agglomerative hierarchical clustering with complete linkage to plot a dendrogram and comment on the likely number of  document clusters with $k = 100$. Use the dendrogram function from [SciPy ](https://docs.scipy.org/doc/scipy-0.15.1/reference/generated/scipy.cluster.hierarchy.dendrogram.html).\n",
    "\n",
    "4. Determine how similar each of the original documents is to the new document `data/mystery.txt`. Since $A = U \\Sigma V^T$, we also have $V = A^T U S^{-1}$ using orthogonality and the rule for transposing matrix products. This suggests that in order to map the new document to the same concept space, first find the tf-idf vector $v$ for the new document - this must contain all (and only) the terms present in the existing tf-idx matrix. Then the query vector $q$ is given by $v^T U_k \\Sigma_k^{-1}$. Find the 10 documents most similar to the new document and the 10 most dissimilar. "
   ]
  },
  {
   "cell_type": "markdown",
   "metadata": {},
   "source": [
    "1"
   ]
  },
  {
   "cell_type": "code",
   "execution_count": 46,
   "metadata": {},
   "outputs": [],
   "source": [
    "import pickle\n",
    "docs = pickle.load(open('data/pubmed.pic', 'rb'))"
   ]
  },
  {
   "cell_type": "code",
   "execution_count": 47,
   "metadata": {},
   "outputs": [],
   "source": [
    "import pandas as pd\n",
    "df_docs = pd.DataFrame(docs.items(), columns=['Title', 'Txt'])"
   ]
  },
  {
   "cell_type": "code",
   "execution_count": 48,
   "metadata": {},
   "outputs": [
    {
     "data": {
      "text/plain": [
       "(6167, 178)"
      ]
     },
     "execution_count": 48,
     "metadata": {},
     "output_type": "execute_result"
    }
   ],
   "source": [
    "#create tf-idf matrix where rows are terms and cols are docs\n",
    "from sklearn.feature_extraction.text import TfidfVectorizer\n",
    "tfidf = TfidfVectorizer()\n",
    "mat_tfidf = tfidf.fit_transform(df_docs['Txt']).T\n",
    "mat_tfidf.shape"
   ]
  },
  {
   "cell_type": "code",
   "execution_count": 82,
   "metadata": {},
   "outputs": [
    {
     "data": {
      "text/html": [
       "<div>\n",
       "<style scoped>\n",
       "    .dataframe tbody tr th:only-of-type {\n",
       "        vertical-align: middle;\n",
       "    }\n",
       "\n",
       "    .dataframe tbody tr th {\n",
       "        vertical-align: top;\n",
       "    }\n",
       "\n",
       "    .dataframe thead th {\n",
       "        text-align: right;\n",
       "    }\n",
       "</style>\n",
       "<table border=\"1\" class=\"dataframe\">\n",
       "  <thead>\n",
       "    <tr style=\"text-align: right;\">\n",
       "      <th></th>\n",
       "      <th>Phenotypic profiling of CD8 + T cells during Plasmodium vivax blood-stage infection.</th>\n",
       "      <th>Addition of histamine to subcutaneously injected Plasmodium berghei sporozoites increases the parasite liver load and could facilitate whole-parasite vaccination.</th>\n",
       "      <th>Genome-wide association study of clinically defined gout identifies multiple risk loci and its association with clinical subtypes.</th>\n",
       "      <th>The Avian Transcriptome Response to Malaria Infection.</th>\n",
       "      <th>Efficacy and Safety of Saxagliptin as Add-On Therapy in Type 2 Diabetes.</th>\n",
       "      <th>The influence of organophosphate and carbamate on sperm chromatin and reproductive hormones among pesticide sprayers.</th>\n",
       "      <th>CD40 Is Required for Protective Immunity against Liver Stage Plasmodium Infection.</th>\n",
       "      <th>Airport malaria: report of four cases in Tunisia.</th>\n",
       "      <th>Antiprotozoal Activity and DNA Binding of Dicationic Acridones.</th>\n",
       "      <th>Distinct Helix Propensities and Membrane Interactions of Human and Rat IAPP Monomers in Anionic Lipid Bilayers.</th>\n",
       "      <th>...</th>\n",
       "      <th>Correlation between osteocalcin positive endothelial progenitor cells and spotty calcification in patients with coronary artery disease.</th>\n",
       "      <th>Safety and effect on reported symptoms of depigmented-polymerised allergen immunotherapy: a retrospective study of 2927 paediatric patients.</th>\n",
       "      <th>Evaluating the toxic and beneficial effects of lichen extracts in normal and diabetic rats.</th>\n",
       "      <th>In Vitro Induction of Human Adipose-Derived Stem Cells into Lymphatic Endothelial-Like Cells.</th>\n",
       "      <th>SMS photograph-based external quality assessment of reading and interpretation of malaria rapid diagnostic tests in the Democratic Republic of the Congo.</th>\n",
       "      <th>IL-18 is associated with protection against rhinovirus-induced colds and asthma exacerbations.</th>\n",
       "      <th>Molecular basis of carcinogenesis in diabetic patients (Review).</th>\n",
       "      <th>Lineage-related cytotoxicity and clonogenic profile of 1,4-benzoquinone-exposed hematopoietic stem and progenitor cells.</th>\n",
       "      <th>Prodrugs of reverse fosmidomycin analogs.</th>\n",
       "      <th>Update: malaria, U.S. Armed Forces, 2014.</th>\n",
       "    </tr>\n",
       "  </thead>\n",
       "  <tbody>\n",
       "    <tr>\n",
       "      <th></th>\n",
       "      <td>13.297706</td>\n",
       "      <td>0.0</td>\n",
       "      <td>0.0</td>\n",
       "      <td>0.0</td>\n",
       "      <td>1.0229</td>\n",
       "      <td>0.0</td>\n",
       "      <td>2.045801</td>\n",
       "      <td>0.0</td>\n",
       "      <td>0.0</td>\n",
       "      <td>0.0</td>\n",
       "      <td>...</td>\n",
       "      <td>1.0229</td>\n",
       "      <td>0.0</td>\n",
       "      <td>0.0</td>\n",
       "      <td>0.0</td>\n",
       "      <td>1.022900</td>\n",
       "      <td>0.0</td>\n",
       "      <td>0.0</td>\n",
       "      <td>0.0</td>\n",
       "      <td>0.0</td>\n",
       "      <td>0.0</td>\n",
       "    </tr>\n",
       "    <tr>\n",
       "      <th>kenya</th>\n",
       "      <td>0.000000</td>\n",
       "      <td>0.0</td>\n",
       "      <td>0.0</td>\n",
       "      <td>0.0</td>\n",
       "      <td>0.0000</td>\n",
       "      <td>0.0</td>\n",
       "      <td>0.000000</td>\n",
       "      <td>0.0</td>\n",
       "      <td>0.0</td>\n",
       "      <td>0.0</td>\n",
       "      <td>...</td>\n",
       "      <td>0.0000</td>\n",
       "      <td>0.0</td>\n",
       "      <td>0.0</td>\n",
       "      <td>0.0</td>\n",
       "      <td>0.000000</td>\n",
       "      <td>0.0</td>\n",
       "      <td>0.0</td>\n",
       "      <td>0.0</td>\n",
       "      <td>0.0</td>\n",
       "      <td>0.0</td>\n",
       "    </tr>\n",
       "    <tr>\n",
       "      <th>maldi</th>\n",
       "      <td>0.000000</td>\n",
       "      <td>0.0</td>\n",
       "      <td>0.0</td>\n",
       "      <td>0.0</td>\n",
       "      <td>0.0000</td>\n",
       "      <td>0.0</td>\n",
       "      <td>0.000000</td>\n",
       "      <td>0.0</td>\n",
       "      <td>0.0</td>\n",
       "      <td>0.0</td>\n",
       "      <td>...</td>\n",
       "      <td>0.0000</td>\n",
       "      <td>0.0</td>\n",
       "      <td>0.0</td>\n",
       "      <td>0.0</td>\n",
       "      <td>0.000000</td>\n",
       "      <td>0.0</td>\n",
       "      <td>0.0</td>\n",
       "      <td>0.0</td>\n",
       "      <td>0.0</td>\n",
       "      <td>0.0</td>\n",
       "    </tr>\n",
       "    <tr>\n",
       "      <th>t414were</th>\n",
       "      <td>0.000000</td>\n",
       "      <td>0.0</td>\n",
       "      <td>0.0</td>\n",
       "      <td>0.0</td>\n",
       "      <td>0.0000</td>\n",
       "      <td>0.0</td>\n",
       "      <td>0.000000</td>\n",
       "      <td>0.0</td>\n",
       "      <td>0.0</td>\n",
       "      <td>0.0</td>\n",
       "      <td>...</td>\n",
       "      <td>0.0000</td>\n",
       "      <td>0.0</td>\n",
       "      <td>0.0</td>\n",
       "      <td>0.0</td>\n",
       "      <td>0.000000</td>\n",
       "      <td>0.0</td>\n",
       "      <td>0.0</td>\n",
       "      <td>0.0</td>\n",
       "      <td>0.0</td>\n",
       "      <td>0.0</td>\n",
       "    </tr>\n",
       "    <tr>\n",
       "      <th>displaying</th>\n",
       "      <td>0.000000</td>\n",
       "      <td>0.0</td>\n",
       "      <td>0.0</td>\n",
       "      <td>0.0</td>\n",
       "      <td>0.0000</td>\n",
       "      <td>0.0</td>\n",
       "      <td>0.000000</td>\n",
       "      <td>0.0</td>\n",
       "      <td>0.0</td>\n",
       "      <td>0.0</td>\n",
       "      <td>...</td>\n",
       "      <td>0.0000</td>\n",
       "      <td>0.0</td>\n",
       "      <td>0.0</td>\n",
       "      <td>0.0</td>\n",
       "      <td>4.488636</td>\n",
       "      <td>0.0</td>\n",
       "      <td>0.0</td>\n",
       "      <td>0.0</td>\n",
       "      <td>0.0</td>\n",
       "      <td>0.0</td>\n",
       "    </tr>\n",
       "  </tbody>\n",
       "</table>\n",
       "<p>5 rows × 178 columns</p>\n",
       "</div>"
      ],
      "text/plain": [
       "            Phenotypic profiling of CD8 + T cells during Plasmodium vivax blood-stage infection.  \\\n",
       "                                                    13.297706                                      \n",
       "kenya                                                0.000000                                      \n",
       "maldi                                                0.000000                                      \n",
       "t414were                                             0.000000                                      \n",
       "displaying                                           0.000000                                      \n",
       "\n",
       "            Addition of histamine to subcutaneously injected Plasmodium berghei sporozoites increases the parasite liver load and could facilitate whole-parasite vaccination.  \\\n",
       "                                                          0.0                                                                                                                    \n",
       "kenya                                                     0.0                                                                                                                    \n",
       "maldi                                                     0.0                                                                                                                    \n",
       "t414were                                                  0.0                                                                                                                    \n",
       "displaying                                                0.0                                                                                                                    \n",
       "\n",
       "            Genome-wide association study of clinically defined gout identifies multiple risk loci and its association with clinical subtypes.  \\\n",
       "                                                          0.0                                                                                    \n",
       "kenya                                                     0.0                                                                                    \n",
       "maldi                                                     0.0                                                                                    \n",
       "t414were                                                  0.0                                                                                    \n",
       "displaying                                                0.0                                                                                    \n",
       "\n",
       "            The Avian Transcriptome Response to Malaria Infection.  \\\n",
       "                                                          0.0        \n",
       "kenya                                                     0.0        \n",
       "maldi                                                     0.0        \n",
       "t414were                                                  0.0        \n",
       "displaying                                                0.0        \n",
       "\n",
       "            Efficacy and Safety of Saxagliptin as Add-On Therapy in Type 2 Diabetes.  \\\n",
       "                                                       1.0229                          \n",
       "kenya                                                  0.0000                          \n",
       "maldi                                                  0.0000                          \n",
       "t414were                                               0.0000                          \n",
       "displaying                                             0.0000                          \n",
       "\n",
       "            The influence of organophosphate and carbamate on sperm chromatin and reproductive hormones among pesticide sprayers.  \\\n",
       "                                                          0.0                                                                       \n",
       "kenya                                                     0.0                                                                       \n",
       "maldi                                                     0.0                                                                       \n",
       "t414were                                                  0.0                                                                       \n",
       "displaying                                                0.0                                                                       \n",
       "\n",
       "            CD40 Is Required for Protective Immunity against Liver Stage Plasmodium Infection.  \\\n",
       "                                                     2.045801                                    \n",
       "kenya                                                0.000000                                    \n",
       "maldi                                                0.000000                                    \n",
       "t414were                                             0.000000                                    \n",
       "displaying                                           0.000000                                    \n",
       "\n",
       "            Airport malaria: report of four cases in Tunisia.  \\\n",
       "                                                          0.0   \n",
       "kenya                                                     0.0   \n",
       "maldi                                                     0.0   \n",
       "t414were                                                  0.0   \n",
       "displaying                                                0.0   \n",
       "\n",
       "            Antiprotozoal Activity and DNA Binding of Dicationic Acridones.  \\\n",
       "                                                          0.0                 \n",
       "kenya                                                     0.0                 \n",
       "maldi                                                     0.0                 \n",
       "t414were                                                  0.0                 \n",
       "displaying                                                0.0                 \n",
       "\n",
       "            Distinct Helix Propensities and Membrane Interactions of Human and Rat IAPP Monomers in Anionic Lipid Bilayers.  \\\n",
       "                                                          0.0                                                                 \n",
       "kenya                                                     0.0                                                                 \n",
       "maldi                                                     0.0                                                                 \n",
       "t414were                                                  0.0                                                                 \n",
       "displaying                                                0.0                                                                 \n",
       "\n",
       "            ...  \\\n",
       "            ...   \n",
       "kenya       ...   \n",
       "maldi       ...   \n",
       "t414were    ...   \n",
       "displaying  ...   \n",
       "\n",
       "            Correlation between osteocalcin positive endothelial progenitor cells and spotty calcification in patients with coronary artery disease.  \\\n",
       "                                                       1.0229                                                                                          \n",
       "kenya                                                  0.0000                                                                                          \n",
       "maldi                                                  0.0000                                                                                          \n",
       "t414were                                               0.0000                                                                                          \n",
       "displaying                                             0.0000                                                                                          \n",
       "\n",
       "            Safety and effect on reported symptoms of depigmented-polymerised allergen immunotherapy: a retrospective study of 2927 paediatric patients.  \\\n",
       "                                                          0.0                                                                                              \n",
       "kenya                                                     0.0                                                                                              \n",
       "maldi                                                     0.0                                                                                              \n",
       "t414were                                                  0.0                                                                                              \n",
       "displaying                                                0.0                                                                                              \n",
       "\n",
       "            Evaluating the toxic and beneficial effects of lichen extracts in normal and diabetic rats.  \\\n",
       "                                                          0.0                                             \n",
       "kenya                                                     0.0                                             \n",
       "maldi                                                     0.0                                             \n",
       "t414were                                                  0.0                                             \n",
       "displaying                                                0.0                                             \n",
       "\n",
       "            In Vitro Induction of Human Adipose-Derived Stem Cells into Lymphatic Endothelial-Like Cells.  \\\n",
       "                                                          0.0                                               \n",
       "kenya                                                     0.0                                               \n",
       "maldi                                                     0.0                                               \n",
       "t414were                                                  0.0                                               \n",
       "displaying                                                0.0                                               \n",
       "\n",
       "            SMS photograph-based external quality assessment of reading and interpretation of malaria rapid diagnostic tests in the Democratic Republic of the Congo.  \\\n",
       "                                                     1.022900                                                                                                           \n",
       "kenya                                                0.000000                                                                                                           \n",
       "maldi                                                0.000000                                                                                                           \n",
       "t414were                                             0.000000                                                                                                           \n",
       "displaying                                           4.488636                                                                                                           \n",
       "\n",
       "            IL-18 is associated with protection against rhinovirus-induced colds and asthma exacerbations.  \\\n",
       "                                                          0.0                                                \n",
       "kenya                                                     0.0                                                \n",
       "maldi                                                     0.0                                                \n",
       "t414were                                                  0.0                                                \n",
       "displaying                                                0.0                                                \n",
       "\n",
       "            Molecular basis of carcinogenesis in diabetic patients (Review).  \\\n",
       "                                                          0.0                  \n",
       "kenya                                                     0.0                  \n",
       "maldi                                                     0.0                  \n",
       "t414were                                                  0.0                  \n",
       "displaying                                                0.0                  \n",
       "\n",
       "            Lineage-related cytotoxicity and clonogenic profile of 1,4-benzoquinone-exposed hematopoietic stem and progenitor cells.  \\\n",
       "                                                          0.0                                                                          \n",
       "kenya                                                     0.0                                                                          \n",
       "maldi                                                     0.0                                                                          \n",
       "t414were                                                  0.0                                                                          \n",
       "displaying                                                0.0                                                                          \n",
       "\n",
       "            Prodrugs of reverse fosmidomycin analogs.  \\\n",
       "                                                  0.0   \n",
       "kenya                                             0.0   \n",
       "maldi                                             0.0   \n",
       "t414were                                          0.0   \n",
       "displaying                                        0.0   \n",
       "\n",
       "            Update: malaria, U.S. Armed Forces, 2014.  \n",
       "                                                  0.0  \n",
       "kenya                                             0.0  \n",
       "maldi                                             0.0  \n",
       "t414were                                          0.0  \n",
       "displaying                                        0.0  \n",
       "\n",
       "[5 rows x 178 columns]"
      ]
     },
     "execution_count": 82,
     "metadata": {},
     "output_type": "execute_result"
    }
   ],
   "source": [
    "medText = tfidf(docs)\n",
    "medText.head()"
   ]
  },
  {
   "cell_type": "code",
   "execution_count": 83,
   "metadata": {},
   "outputs": [
    {
     "data": {
      "text/plain": [
       "(6638, 178)"
      ]
     },
     "execution_count": 83,
     "metadata": {},
     "output_type": "execute_result"
    }
   ],
   "source": [
    "medText.shape"
   ]
  },
  {
   "cell_type": "markdown",
   "metadata": {},
   "source": [
    "2"
   ]
  },
  {
   "cell_type": "code",
   "execution_count": 97,
   "metadata": {},
   "outputs": [
    {
     "data": {
      "text/plain": [
       "array([[ 1.27648023e+01,  6.51189873e-01,  9.49578326e-01, ...,\n",
       "         4.43347212e-01,  6.92495354e-01,  5.44485865e-01],\n",
       "       [ 3.93079832e-02,  5.93037843e-02,  4.44241987e-02, ...,\n",
       "         4.55333972e-02,  1.72704036e-02,  2.37849973e-02],\n",
       "       [-2.06229743e-02,  7.37880150e-04, -1.63174889e-02, ...,\n",
       "        -8.09781617e-02,  4.66314138e-03, -2.91871079e-03],\n",
       "       ...,\n",
       "       [ 1.08024827e-01,  4.59991994e-02,  2.76902469e-02, ...,\n",
       "         7.59897130e-02,  1.85144898e-02,  1.34614715e-02],\n",
       "       [-3.34133188e-02,  2.82053559e-01,  1.85537129e-01, ...,\n",
       "         2.61074833e-01,  1.00406738e-01,  9.94860221e-02],\n",
       "       [-2.80816637e-02,  5.28251816e-02,  3.71296657e-02, ...,\n",
       "         8.56254860e-02,  1.95040264e-02,  1.80187401e-02]])"
      ]
     },
     "execution_count": 97,
     "metadata": {},
     "output_type": "execute_result"
    }
   ],
   "source": [
    "from sparsesvd import sparsesvd \n",
    "from scipy.sparse import csc_matrix \n",
    "\n",
    "Tk,sk, Dk=sparsesvd(csc_matrix(medText), k=10)\n",
    "# reconstructed matrix\n",
    "m10 = Tk.T @ np.diag(sk) @ Dk\n",
    "m10"
   ]
  },
  {
   "cell_type": "code",
   "execution_count": 50,
   "metadata": {},
   "outputs": [],
   "source": [
    "# import scipy.sparse.linalg as sparsela\n",
    "# import numpy as np\n",
    "# import numpy.linalg as la\n",
    "# Tk, sk, Dk = sparsela.svds(mat_tfidf, k=10)\n",
    "# matd_tfidf = mat_tfidf.todense()\n",
    "# T, s, Dt = la.svd(matd_tfidf)\n",
    "# mat_k10 = Tk @ np.diag(sk) @ Dk\n",
    "# mat_k10"
   ]
  },
  {
   "cell_type": "markdown",
   "metadata": {},
   "source": [
    "3"
   ]
  },
  {
   "cell_type": "code",
   "execution_count": 98,
   "metadata": {},
   "outputs": [
    {
     "data": {
      "text/plain": [
       "array([[ 1.32908644e+01, -2.93565068e-01,  7.09886012e-03, ...,\n",
       "        -2.65883228e-02,  4.97594807e-01,  3.11161156e-01],\n",
       "       [-1.13917736e-02, -7.09096442e-02, -5.04970766e-02, ...,\n",
       "        -1.31019499e-02,  1.38866887e-02, -2.61669131e-02],\n",
       "       [-1.31468600e-03, -1.02412853e-02, -7.75273839e-04, ...,\n",
       "         3.24834528e-04, -3.40056928e-03, -3.11616700e-03],\n",
       "       ...,\n",
       "       [-1.61203393e-02, -1.04530009e-01, -2.25479838e-02, ...,\n",
       "         1.08315735e-02,  2.59808059e-02,  5.27925371e-02],\n",
       "       [-3.52878121e-02,  3.17196476e-02,  1.50690517e-01, ...,\n",
       "        -2.14174529e-02,  1.21655226e-01,  3.02761520e-01],\n",
       "       [ 3.72935219e-03, -2.59103741e-02,  1.98988777e-03, ...,\n",
       "        -4.67775559e-03,  8.66598882e-02,  1.74157326e-03]])"
      ]
     },
     "execution_count": 98,
     "metadata": {},
     "output_type": "execute_result"
    }
   ],
   "source": [
    "Tk100,sk100, Dk100=sparsesvd(csc_matrix(medText), k=100)\n",
    "# reconstructed matrix\n",
    "m100 = Tk100.T @ np.diag(sk100) @ Dk100\n",
    "m100"
   ]
  },
  {
   "cell_type": "code",
   "execution_count": 52,
   "metadata": {},
   "outputs": [
    {
     "data": {
      "text/plain": [
       "<Figure size 640x480 with 1 Axes>"
      ]
     },
     "metadata": {},
     "output_type": "display_data"
    }
   ],
   "source": [
    "from sklearn.cluster import AgglomerativeClustering\n",
    "import scipy.cluster.hierarchy as sch\n",
    "import matplotlib.pyplot as plt\n",
    "import numpy as np\n",
    "\n",
    "def plot_dendrogram(model, **kwargs):\n",
    "    # Create linkage matrix and then plot the dendrogram\n",
    "\n",
    "    # create the counts of samples under each node\n",
    "    counts = np.zeros(model.children_.shape[0])\n",
    "    n_samples = len(model.labels_)\n",
    "    for i, merge in enumerate(model.children_):\n",
    "        current_count = 0\n",
    "        for child_idx in merge:\n",
    "            if child_idx < n_samples:\n",
    "                current_count += 1  # leaf node\n",
    "            else:\n",
    "                current_count += counts[child_idx - n_samples]\n",
    "        counts[i] = current_count\n",
    "\n",
    "    linkage_matrix = np.column_stack([model.children_, model.distances_,\n",
    "                                      counts]).astype(float)\n",
    "\n",
    "    # Plot the corresponding dendrogram\n",
    "    sch.dendrogram(linkage_matrix, **kwargs)\n",
    "    \n",
    "from sklearn.datasets import load_iris\n",
    "iris = load_iris()\n",
    "X = m100\n",
    "\n",
    "# setting distance_threshold=0 ensures we compute the full tree.\n",
    "model = AgglomerativeClustering(distance_threshold=0, n_clusters=None)\n",
    "\n",
    "model = model.fit(X)\n",
    "plt.title('Hierarchical Clustering Dendrogram')\n",
    "# plot the top three levels of the dendrogram\n",
    "plot_dendrogram(model, truncate_mode='level', p=3)\n",
    "plt.xlabel(\"Number of points in node (or index of point if no parenthesis).\")\n",
    "plt.show()\n"
   ]
  },
  {
   "cell_type": "markdown",
   "metadata": {},
   "source": [
    "The likely number of document clusters are 3"
   ]
  },
  {
   "cell_type": "markdown",
   "metadata": {},
   "source": [
    "4"
   ]
  },
  {
   "cell_type": "code",
   "execution_count": 53,
   "metadata": {},
   "outputs": [],
   "source": [
    "with open('data/mystery.txt') as f:\n",
    "    file=f.read()"
   ]
  },
  {
   "cell_type": "code",
   "execution_count": 151,
   "metadata": {},
   "outputs": [],
   "source": [
    "docs1={'newTxt': file}\n",
    "newTfIdf = tfidf(docs1)"
   ]
  },
  {
   "cell_type": "code",
   "execution_count": 95,
   "metadata": {},
   "outputs": [
    {
     "data": {
      "text/html": [
       "<div>\n",
       "<style scoped>\n",
       "    .dataframe tbody tr th:only-of-type {\n",
       "        vertical-align: middle;\n",
       "    }\n",
       "\n",
       "    .dataframe tbody tr th {\n",
       "        vertical-align: top;\n",
       "    }\n",
       "\n",
       "    .dataframe thead th {\n",
       "        text-align: right;\n",
       "    }\n",
       "</style>\n",
       "<table border=\"1\" class=\"dataframe\">\n",
       "  <thead>\n",
       "    <tr style=\"text-align: right;\">\n",
       "      <th></th>\n",
       "      <th>index</th>\n",
       "      <th>newTxt</th>\n",
       "    </tr>\n",
       "  </thead>\n",
       "  <tbody>\n",
       "    <tr>\n",
       "      <th>0</th>\n",
       "      <td></td>\n",
       "      <td>-164.969029</td>\n",
       "    </tr>\n",
       "    <tr>\n",
       "      <th>1</th>\n",
       "      <td>kenya</td>\n",
       "      <td>0.000000</td>\n",
       "    </tr>\n",
       "    <tr>\n",
       "      <th>2</th>\n",
       "      <td>maldi</td>\n",
       "      <td>0.000000</td>\n",
       "    </tr>\n",
       "    <tr>\n",
       "      <th>3</th>\n",
       "      <td>t414were</td>\n",
       "      <td>0.000000</td>\n",
       "    </tr>\n",
       "    <tr>\n",
       "      <th>4</th>\n",
       "      <td>displaying</td>\n",
       "      <td>0.000000</td>\n",
       "    </tr>\n",
       "  </tbody>\n",
       "</table>\n",
       "</div>"
      ],
      "text/plain": [
       "        index      newTxt\n",
       "0             -164.969029\n",
       "1       kenya    0.000000\n",
       "2       maldi    0.000000\n",
       "3    t414were    0.000000\n",
       "4  displaying    0.000000"
      ]
     },
     "execution_count": 95,
     "metadata": {},
     "output_type": "execute_result"
    }
   ],
   "source": [
    "# this must contain all (and only) the terms present in the existing tf-idx matrix\n",
    "newTfIdf2 = pd.merge(medText.reset_index().iloc[:,0], newTfIdf.reset_index(),how='left').fillna(0)\n",
    "newTfIdf2.head()"
   ]
  },
  {
   "cell_type": "code",
   "execution_count": 100,
   "metadata": {},
   "outputs": [
    {
     "name": "stdout",
     "output_type": "stream",
     "text": [
      "(100, 6638) (100,) (100, 178) (6638, 2)\n"
     ]
    }
   ],
   "source": [
    "print(Tk100.shape,sk100.shape, Dk100.shape, newTfIdf2.shape)"
   ]
  },
  {
   "cell_type": "code",
   "execution_count": 110,
   "metadata": {},
   "outputs": [
    {
     "data": {
      "text/plain": [
       "(100, 1)"
      ]
     },
     "execution_count": 110,
     "metadata": {},
     "output_type": "execute_result"
    }
   ],
   "source": [
    "q_hat = Tk100@newTfIdf2.iloc[:,1].to_numpy()[:, None]\n",
    "q_hat.shape"
   ]
  },
  {
   "cell_type": "code",
   "execution_count": 142,
   "metadata": {},
   "outputs": [],
   "source": [
    "similarity=[]\n",
    "for i in range(100):\n",
    "    similarity.append(((np.diag(sk100) @ Dk100[:,i])@q_hat/la.norm(np.diag(sk100) @ Dk100[:,i])/la.norm(q_hat))[0])"
   ]
  },
  {
   "cell_type": "markdown",
   "metadata": {},
   "source": [
    "10 most similar"
   ]
  },
  {
   "cell_type": "code",
   "execution_count": 149,
   "metadata": {},
   "outputs": [
    {
     "data": {
      "text/plain": [
       "array([93,  1,  3, 14, 44, 99, 40, 56, 88, 24])"
      ]
     },
     "execution_count": 149,
     "metadata": {},
     "output_type": "execute_result"
    }
   ],
   "source": [
    "np.argsort(similarity)[-10:]"
   ]
  },
  {
   "cell_type": "markdown",
   "metadata": {},
   "source": [
    "10 most dissimilar"
   ]
  },
  {
   "cell_type": "code",
   "execution_count": 148,
   "metadata": {},
   "outputs": [
    {
     "data": {
      "text/plain": [
       "array([60, 90, 73, 68,  6, 64, 38, 48, 21, 13])"
      ]
     },
     "execution_count": 148,
     "metadata": {},
     "output_type": "execute_result"
    }
   ],
   "source": [
    "np.argsort(similarity)[:10]"
   ]
  },
  {
   "cell_type": "markdown",
   "metadata": {},
   "source": [
    "**Notes on the Pubmed articles**\n",
    "\n",
    "These were downloaded with the following script.\n",
    "\n",
    "```python\n",
    "from Bio import Entrez, Medline\n",
    "Entrez.email = \"YOUR EMAIL HERE\"\n",
    "import cPickle\n",
    "\n",
    "try:\n",
    "    docs = cPickle.load(open('pubmed.pic'))\n",
    "except Exception, e:\n",
    "    print e\n",
    "\n",
    "    docs = {}\n",
    "    for term in ['plasmodium', 'diabetes', 'asthma', 'cytometry']:\n",
    "        handle = Entrez.esearch(db=\"pubmed\", term=term, retmax=50)\n",
    "        result = Entrez.read(handle)\n",
    "        handle.close()\n",
    "        idlist = result[\"IdList\"]\n",
    "        handle2 = Entrez.efetch(db=\"pubmed\", id=idlist, rettype=\"medline\", retmode=\"text\")\n",
    "        result2 = Medline.parse(handle2)\n",
    "        for record in result2:\n",
    "            title = record.get(\"TI\", None)\n",
    "            abstract = record.get(\"AB\", None)\n",
    "            if title is None or abstract is None:\n",
    "                continue\n",
    "            docs[title] = '\\n'.join([title, abstract])\n",
    "            print title\n",
    "        handle2.close()\n",
    "    cPickle.dump(docs, open('pubmed.pic', 'w'))\n",
    "docs.values()\n",
    "```"
   ]
  }
 ],
 "metadata": {
  "kernelspec": {
   "display_name": "Python 3",
   "language": "python",
   "name": "python3"
  },
  "language_info": {
   "codemirror_mode": {
    "name": "ipython",
    "version": 3
   },
   "file_extension": ".py",
   "mimetype": "text/x-python",
   "name": "python",
   "nbconvert_exporter": "python",
   "pygments_lexer": "ipython3",
   "version": "3.7.3"
  }
 },
 "nbformat": 4,
 "nbformat_minor": 4
}
